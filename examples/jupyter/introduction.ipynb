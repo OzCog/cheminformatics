{
 "cells": [
  {
   "cell_type": "markdown",
   "id": "863ffc75",
   "metadata": {},
   "source": [
    "# Import\n",
    "\n",
    "Import the 1) AtomSpace, 2) standard AtomSpace types and 3) cheminformatics types"
   ]
  },
  {
   "cell_type": "code",
   "execution_count": null,
   "id": "a553221f",
   "metadata": {},
   "outputs": [],
   "source": [
    "from opencog.atomspace import AtomSpace\n",
    "from opencog.type_constructors import *\n",
    "from opencog.cheminformatics import *"
   ]
  },
  {
   "cell_type": "markdown",
   "id": "d7a07c99",
   "metadata": {},
   "source": [
    "# Create an AtomSpace"
   ]
  },
  {
   "cell_type": "code",
   "execution_count": null,
   "id": "fdd12aa4",
   "metadata": {},
   "outputs": [],
   "source": [
    "ats = AtomSpace()\n",
    "set_default_atomspace(ats)"
   ]
  },
  {
   "cell_type": "markdown",
   "id": "7349ee29",
   "metadata": {},
   "source": [
    "# Create chemical entities"
   ]
  },
  {
   "cell_type": "markdown",
   "id": "97127dbe",
   "metadata": {},
   "source": [
    "## 1) Atom\n",
    "\n",
    "Rules:\n",
    "- Atoms must have names. The names can be anything.\n",
    "- Two atoms with the same type and name are treated as identical. Only a single object will be created."
   ]
  },
  {
   "cell_type": "code",
   "execution_count": null,
   "id": "8c8dd97b",
   "metadata": {},
   "outputs": [],
   "source": [
    "H('42')"
   ]
  },
  {
   "cell_type": "code",
   "execution_count": null,
   "id": "2696bc67",
   "metadata": {},
   "outputs": [],
   "source": [
    "carbon = C('alpha')\n",
    "carbon"
   ]
  },
  {
   "cell_type": "code",
   "execution_count": null,
   "id": "6399cdab",
   "metadata": {},
   "outputs": [],
   "source": [
    "O('A particular oxygen atom with a long identifier')"
   ]
  },
  {
   "cell_type": "code",
   "execution_count": null,
   "id": "f7155a6d",
   "metadata": {},
   "outputs": [],
   "source": [
    "N('♖ Nitrogen with unicode characters ♘')"
   ]
  },
  {
   "cell_type": "code",
   "execution_count": null,
   "id": "4f5d1852",
   "metadata": {},
   "outputs": [],
   "source": [
    "atom1 = H('101')\n",
    "atom2 = H('102')\n",
    "atom3 = H('101')  # same hydrogen!\n",
    "\n",
    "print(atom1 == atom2)\n",
    "print(atom1 == atom3)"
   ]
  },
  {
   "cell_type": "markdown",
   "id": "ef6cd998",
   "metadata": {},
   "source": [
    "## 2) Bond\n",
    "\n",
    "Bonds need to contain a list of two atoms.\n",
    "\n",
    "### Single bond"
   ]
  },
  {
   "cell_type": "code",
   "execution_count": null,
   "id": "35a3be7c",
   "metadata": {},
   "outputs": [],
   "source": [
    "SB(C('a'), C('b'))"
   ]
  },
  {
   "cell_type": "markdown",
   "id": "023d8b0b",
   "metadata": {},
   "source": [
    "### Double bond"
   ]
  },
  {
   "cell_type": "code",
   "execution_count": null,
   "id": "05d8daaa",
   "metadata": {},
   "outputs": [],
   "source": [
    "DB(C('a'), C('b'))"
   ]
  },
  {
   "cell_type": "markdown",
   "id": "812bd6d5",
   "metadata": {},
   "source": [
    "### Triple bond"
   ]
  },
  {
   "cell_type": "code",
   "execution_count": null,
   "id": "35c0387c",
   "metadata": {},
   "outputs": [],
   "source": [
    "TB(C('a'), C('b'))"
   ]
  },
  {
   "cell_type": "markdown",
   "id": "2c324a72",
   "metadata": {},
   "source": [
    "### Aromatic bond"
   ]
  },
  {
   "cell_type": "code",
   "execution_count": null,
   "id": "ccdd17a4",
   "metadata": {},
   "outputs": [],
   "source": [
    "AB(C('a'), C('b'))"
   ]
  },
  {
   "cell_type": "markdown",
   "id": "dda4f938",
   "metadata": {},
   "source": [
    "## 3) Molecule"
   ]
  },
  {
   "cell_type": "markdown",
   "id": "82da2ac5",
   "metadata": {},
   "source": [
    "- [Methane](https://en.wikipedia.org/wiki/Methane) with four single bonds"
   ]
  },
  {
   "cell_type": "code",
   "execution_count": null,
   "id": "eabfc5ff",
   "metadata": {},
   "outputs": [],
   "source": [
    "Molecule(\n",
    "    SB(C('1'), H('1')),\n",
    "    SB(C('1'), H('2')),\n",
    "    SB(C('1'), H('3')),\n",
    "    SB(C('1'), H('4')),\n",
    ")"
   ]
  },
  {
   "cell_type": "markdown",
   "id": "f6e851dc",
   "metadata": {},
   "source": [
    "- [Carbon dioxide](https://en.wikipedia.org/wiki/Carbon_dioxide) with two double bonds"
   ]
  },
  {
   "cell_type": "code",
   "execution_count": null,
   "id": "05e26957",
   "metadata": {},
   "outputs": [],
   "source": [
    "carbon_dioxide = Molecule(\n",
    "    DB(C('a'), O('a')),\n",
    "    DB(C('a'), O('b')),\n",
    ")\n",
    "\n",
    "carbon_dioxide"
   ]
  },
  {
   "cell_type": "markdown",
   "id": "ea1e0f0b",
   "metadata": {},
   "source": [
    "- [Carbon monoxide](https://en.wikipedia.org/wiki/Carbon_monoxide) with one triple bond"
   ]
  },
  {
   "cell_type": "code",
   "execution_count": null,
   "id": "94b9edcc",
   "metadata": {},
   "outputs": [],
   "source": [
    "carbon_monoxide = Molecule(\n",
    "    TB(C('castor'), O('pollux'))\n",
    ")"
   ]
  },
  {
   "cell_type": "markdown",
   "id": "40360894",
   "metadata": {},
   "source": [
    "- [Phenol](https://en.wikipedia.org/wiki/Phenol) with 6 aromatic bonds and 7 single bonds"
   ]
  },
  {
   "cell_type": "code",
   "execution_count": null,
   "id": "b339d0ec",
   "metadata": {},
   "outputs": [],
   "source": [
    "phenol = Molecule(\n",
    "    AB(C('3_1'), C('3_2')),\n",
    "    AB(C('3_2'), C('3_3')),\n",
    "    AB(C('3_3'), C('3_4')),\n",
    "    AB(C('3_4'), C('3_5')),\n",
    "    AB(C('3_5'), C('3_6')),\n",
    "    AB(C('3_6'), C('3_1')),\n",
    "    \n",
    "    SB(C('3_1'), O('3_7')),\n",
    "    SB(O('3_7'), H('3_8')),\n",
    "    SB(C('3_2'), H('3_9')),\n",
    "    SB(C('3_3'), H('3_10')),\n",
    "    SB(C('3_4'), H('3_11')),\n",
    "    SB(C('3_5'), H('3_12')),\n",
    "    SB(C('3_6'), H('3_13')),\n",
    ")\n",
    "\n",
    "phenol"
   ]
  },
  {
   "cell_type": "markdown",
   "id": "a6710710",
   "metadata": {},
   "source": [
    "## 4) Reaction"
   ]
  },
  {
   "cell_type": "code",
   "execution_count": null,
   "id": "3093e3ec",
   "metadata": {},
   "outputs": [],
   "source": [
    "# todo"
   ]
  }
 ],
 "metadata": {
  "kernelspec": {
   "display_name": "Python 3 (ipykernel)",
   "language": "python",
   "name": "python3"
  },
  "language_info": {
   "codemirror_mode": {
    "name": "ipython",
    "version": 3
   },
   "file_extension": ".py",
   "mimetype": "text/x-python",
   "name": "python",
   "nbconvert_exporter": "python",
   "pygments_lexer": "ipython3",
   "version": "3.8.13"
  }
 },
 "nbformat": 4,
 "nbformat_minor": 5
}
